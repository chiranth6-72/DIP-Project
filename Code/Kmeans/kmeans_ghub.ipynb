{
 "cells": [
  {
   "cell_type": "code",
   "execution_count": null,
   "metadata": {},
   "outputs": [],
   "source": [
    "import numpy as np # linear algebra\n",
    "import pandas as pd # data processing, CSV file I/O (e.g. pd.read_csv)\n",
    "\n",
    "# The below two are visualization libraires\n",
    "import matplotlib.pyplot as plt\n",
    "import seaborn as sns \n",
    "from PIL import Image\n",
    "\n",
    "# for calculating interval\n",
    "from time import time\n",
    "\n",
    "plt.rcParams['figure.figsize'] = 10,8 # setting default figure size for the kernel\n",
    "\n",
    "# for clustering image pixels\n",
    "from sklearn.cluster import KMeans \n",
    "# for simple image processing tasks"
   ]
  },
  {
   "cell_type": "code",
   "execution_count": null,
   "metadata": {},
   "outputs": [],
   "source": [
    "img_original = Image.open('./image.jpeg')\n",
    "plt.axis('off')\n",
    "plt.imshow(img_original)\n",
    "plt.title('Our buddy for the experiment !')\n",
    "plt.show()"
   ]
  },
  {
   "cell_type": "code",
   "execution_count": null,
   "metadata": {},
   "outputs": [],
   "source": [
    "img = np.array(img_original,dtype=float) / 255\n",
    "\n",
    "# Save the dimensions, we will be need them later\n",
    "w, h, d = original_shape = img.shape\n",
    "print('Original Shape'.center(20,'='))\n",
    "print(img.shape)\n",
    "\n",
    "# image_array size - w*h , d\n",
    "image_array = img.reshape(-1,d)\n",
    "print('ReShaped'.center(20,'='))\n",
    "print(image_array.shape)"
   ]
  },
  {
   "cell_type": "code",
   "execution_count": null,
   "metadata": {},
   "outputs": [],
   "source": [
    "n_colours = [64,32]\n",
    "\n",
    "# 64 colour image\n",
    "t0 = time()\n",
    "kmeans64 = KMeans(n_clusters = n_colours[0],random_state=42,verbose=2).fit(image_array)\n",
    "\n",
    "print('Completed 64 clusters in'+ str({round(time()-t0,2)})+'seconds.')\n",
    "\n",
    "# 32 colour image\n",
    "t0 = time()\n",
    "kmeans32 = KMeans(n_clusters = n_colours[1],random_state=42,verbose=2)\n",
    "kmeans32.fit(image_array)\n",
    "\n",
    "print('Completed 32 clusters in' + str({round(time()-t0,2)})+  ' seconds.')\n",
    "\n",
    "labels64 = kmeans64.labels_\n",
    "labels32 = kmeans32.labels_\n"
   ]
  },
  {
   "cell_type": "code",
   "execution_count": null,
   "metadata": {},
   "outputs": [],
   "source": [
    "\n",
    "print('Within cluster sum of square error for'+str( {n_colours[0]})+' clusters = '+str({round(kmeans64.inertia_,2)}))\n",
    "print('Within cluster sum of square error for'+str( {n_colours[1]})+' clusters = '+str({round(kmeans32.inertia_,2)}))\n",
    "# print('Within cluster sum of square error for {n_colours[1]} clusters = {round(kmeans32.inertia_,2)}')"
   ]
  },
  {
   "cell_type": "code",
   "execution_count": null,
   "metadata": {},
   "outputs": [],
   "source": [
    "import matplotlib.image as mpimg\n",
    "def recreate_image(centroids, labels, w, h):\n",
    "    # centroids variable are calculated from the flattened image\n",
    "    # centroids: w*h, d \n",
    "    # so each row depicts the values per depth\n",
    "    d = centroids.shape[1]\n",
    "    image = np.zeros((w, h, d))\n",
    "    label_idx = 0\n",
    "    for i in range(w):\n",
    "        for j in range(h):\n",
    "            # filling values in new image with centroid values\n",
    "            image[i][j] = centroids[labels[label_idx]]\n",
    "            label_idx += 1      \n",
    "    return image"
   ]
  },
  {
   "cell_type": "code",
   "execution_count": null,
   "metadata": {},
   "outputs": [],
   "source": [
    "plt.figure(figsize=(20,10))\n",
    "plt.subplot(132)\n",
    "plt.axis('off')\n",
    "plt.title('Original image')\n",
    "plt.imshow(img)\n",
    "\n",
    "plt.subplot(131)\n",
    "plt.axis('off')\n",
    "plt.title('Compressed image (64 colors, K-Means)')\n",
    "k64 = recreate_image(kmeans64.cluster_centers_, labels64, w, h)\n",
    "plt.imshow(k64)\n",
    "mpimg.imsave('./K_64.jpeg', k64)\n",
    "\n",
    "plt.subplot(133)\n",
    "plt.axis('off')\n",
    "plt.title('Compressed image (32 colors, K-Means)')\n",
    "k32 = recreate_image(kmeans32.cluster_centers_, labels32, w, h)\n",
    "plt.imshow(k32)\n",
    "mpimg.imsave('./K_32.jpeg', k32)\n",
    "plt.show()\n"
   ]
  },
  {
   "cell_type": "code",
   "execution_count": null,
   "metadata": {},
   "outputs": [],
   "source": [
    "import os\n",
    "print(os.stat('./image.jpeg').st_size/1024)\n",
    "print(os.stat('./K_64.jpeg').st_size/1024)\n",
    "print(os.stat('./K_32.jpeg').st_size/1024)"
   ]
  }
 ],
 "metadata": {
  "kernelspec": {
   "display_name": ".venv",
   "language": "python",
   "name": "python3"
  },
  "language_info": {
   "codemirror_mode": {
    "name": "ipython",
    "version": 3
   },
   "file_extension": ".py",
   "mimetype": "text/x-python",
   "name": "python",
   "nbconvert_exporter": "python",
   "pygments_lexer": "ipython3",
   "version": "3.10.5"
  },
  "orig_nbformat": 4
 },
 "nbformat": 4,
 "nbformat_minor": 2
}
