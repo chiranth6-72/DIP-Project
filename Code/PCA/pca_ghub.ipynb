{
 "cells": [
  {
   "cell_type": "code",
   "execution_count": 1,
   "metadata": {},
   "outputs": [],
   "source": [
    "import numpy as np\n",
    "from matplotlib.image import imread, imsave\n",
    "import matplotlib.pyplot as plt\n",
    "from sklearn.decomposition import PCA, IncrementalPCA\n",
    "from skimage import color"
   ]
  },
  {
   "cell_type": "code",
   "execution_count": 2,
   "metadata": {},
   "outputs": [
    {
     "name": "stdout",
     "output_type": "stream",
     "text": [
      "(1024, 1024, 3)\n"
     ]
    },
    {
     "data": {
      "text/plain": [
       "<Figure size 1200x800 with 0 Axes>"
      ]
     },
     "execution_count": 2,
     "metadata": {},
     "output_type": "execute_result"
    },
    {
     "data": {
      "text/plain": [
       "<Figure size 1200x800 with 0 Axes>"
      ]
     },
     "metadata": {},
     "output_type": "display_data"
    }
   ],
   "source": [
    "image_raw = imread(\"./image.jpeg\")\n",
    "print(image_raw.shape)\n",
    "\n",
    "plt.figure(figsize=[12,8])\n",
    "# plt.imshow(image_raw)"
   ]
  },
  {
   "cell_type": "code",
   "execution_count": 3,
   "metadata": {},
   "outputs": [
    {
     "data": {
      "text/plain": [
       "<Figure size 1200x800 with 0 Axes>"
      ]
     },
     "execution_count": 3,
     "metadata": {},
     "output_type": "execute_result"
    },
    {
     "data": {
      "text/plain": [
       "<Figure size 1200x800 with 0 Axes>"
      ]
     },
     "metadata": {},
     "output_type": "display_data"
    }
   ],
   "source": [
    "img = color.rgb2gray(imread('image.jpeg'))\n",
    "plt.figure(figsize=[12,8])\n",
    "# plt.imshow(img)\n"
   ]
  },
  {
   "cell_type": "code",
   "execution_count": 4,
   "metadata": {},
   "outputs": [
    {
     "name": "stdout",
     "output_type": "stream",
     "text": [
      "k for 98% variance: 36\n"
     ]
    },
    {
     "data": {
      "image/png": "[encoded data removed]",
      "text/plain": [
       "<Figure size 1000x500 with 1 Axes>"
      ]
     },
     "metadata": {},
     "output_type": "display_data"
    }
   ],
   "source": [
    "pca = PCA()\n",
    "pca.fit(img)\n",
    "\n",
    "variance = np.cumsum(pca.explained_variance_ratio_)*100\n",
    "\n",
    "# Calculating the number of components needed to preserve 98% of the data\n",
    "k = np.argmax(variance>98)\n",
    "print(\"k for 98% variance: \"+ str(k))\n",
    "#print(\"\\n\")\n",
    "\n",
    "plt.figure(figsize=[10,5])\n",
    "plt.axvline(x=k, color=\"g\")\n",
    "plt.axhline(y=95, color=\"r\")\n",
    "ax = plt.plot(variance)"
   ]
  },
  {
   "cell_type": "code",
   "execution_count": 5,
   "metadata": {},
   "outputs": [
    {
     "data": {
      "text/plain": [
       "<Figure size 1200x800 with 0 Axes>"
      ]
     },
     "execution_count": 5,
     "metadata": {},
     "output_type": "execute_result"
    },
    {
     "data": {
      "text/plain": [
       "<Figure size 1200x800 with 0 Axes>"
      ]
     },
     "metadata": {},
     "output_type": "display_data"
    }
   ],
   "source": [
    "ipca = IncrementalPCA(n_components=k)\n",
    "image_compressed = ipca.inverse_transform(ipca.fit_transform(img))\n",
    "\n",
    "imsave('./pca_ghyb.jpeg', image_compressed)\n",
    "\n",
    "# Plotting the compressed image\n",
    "plt.figure(figsize=[12,8])\n",
    "# plt.imshow(image_compressed)"
   ]
  },
  {
   "cell_type": "code",
   "execution_count": 6,
   "metadata": {},
   "outputs": [],
   "source": [
    "import os\n",
    "og = (os.stat('./image.jpeg').st_size/1024)\n",
    "mod = (os.stat('./pca_ghyb.jpeg').st_size/1024)"
   ]
  },
  {
   "cell_type": "code",
   "execution_count": 8,
   "metadata": {},
   "outputs": [
    {
     "name": "stdout",
     "output_type": "stream",
     "text": [
      "8.0\n"
     ]
    }
   ],
   "source": [
    "print(og//mod)"
   ]
  },
  {
   "cell_type": "code",
   "execution_count": 10,
   "metadata": {},
   "outputs": [
    {
     "name": "stdout",
     "output_type": "stream",
     "text": [
      "Mean Squared Error (MSE): 108.36390781402588\n",
      "Peak Signal-to-Noise Ratio (PSNR): 27.781957027176855\n"
     ]
    }
   ],
   "source": [
    "import cv2\n",
    "import numpy as np\n",
    "\n",
    "def calculate_mse(image1, image2):\n",
    "    # Calculate the Mean Squared Error (MSE) between two images\n",
    "    mse = np.mean((image1 - image2) ** 2)\n",
    "    return mse\n",
    "\n",
    "def calculate_psnr(image1, image2):\n",
    "    # Calculate the Peak Signal-to-Noise Ratio (PSNR) between two images\n",
    "    mse = calculate_mse(image1, image2)\n",
    "    max_pixel = 255.0  # Assuming pixel values range from 0 to 255\n",
    "    psnr = 20 * np.log10(max_pixel / np.sqrt(mse))\n",
    "    return psnr\n",
    "\n",
    "# Example usage\n",
    "image1 = cv2.imread(\"./image.jpeg\", cv2.IMREAD_GRAYSCALE)\n",
    "image2 = cv2.imread(\"./pca_ghyb.jpeg\", cv2.IMREAD_GRAYSCALE)\n",
    "\n",
    "mse = calculate_mse(image1, image2)\n",
    "psnr = calculate_psnr(image1, image2)\n",
    "\n",
    "print(\"Mean Squared Error (MSE):\", mse)\n",
    "print(\"Peak Signal-to-Noise Ratio (PSNR):\", psnr)\n"
   ]
  }
 ],
 "metadata": {
  "kernelspec": {
   "display_name": ".venv",
   "language": "python",
   "name": "python3"
  },
  "language_info": {
   "codemirror_mode": {
    "name": "ipython",
    "version": 3
   },
   "file_extension": ".py",
   "mimetype": "text/x-python",
   "name": "python",
   "nbconvert_exporter": "python",
   "pygments_lexer": "ipython3",
   "version": "3.10.10"
  },
  "orig_nbformat": 4
 },
 "nbformat": 4,
 "nbformat_minor": 2
}
