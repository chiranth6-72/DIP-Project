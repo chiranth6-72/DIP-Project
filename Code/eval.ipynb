{
 "cells": [
  {
   "cell_type": "code",
   "execution_count": 12,
   "metadata": {},
   "outputs": [],
   "source": [
    "import numpy as np\n",
    "import matplotlib.pyplot as plt\n",
    "from sklearn.decomposition import PCA\n",
    "from sklearn.cluster import KMeans\n",
    "from skimage.metrics import peak_signal_noise_ratio as psnr\n",
    "from skimage.metrics import mean_squared_error as mse\n",
    "from skimage.metrics import structural_similarity as ssim\n",
    "from PIL import Image"
   ]
  },
  {
   "cell_type": "code",
   "execution_count": 13,
   "metadata": {},
   "outputs": [],
   "source": [
    "def compress_pca(image, n_components):\n",
    "    image_array = np.array(image)\n",
    "    shape = image_array.shape\n",
    "    image_array = image_array.reshape(-1, shape[-1])\n",
    "    \n",
    "    pca = PCA(n_components=n_components)\n",
    "    compressed = pca.inverse_transform(pca.fit_transform(image_array))\n",
    "    \n",
    "    compressed_image = compressed.reshape(shape)\n",
    "    return Image.fromarray(compressed_image.astype(np.uint8))\n",
    "\n",
    "def compress_kmeans(image, n_colors):\n",
    "    image_array = np.array(image)\n",
    "    shape = image_array.shape\n",
    "    image_array = image_array.reshape(-1, shape[-1])\n",
    "    \n",
    "    kmeans = KMeans(n_clusters=n_colors, random_state=42)\n",
    "    labels = kmeans.fit_predict(image_array)\n",
    "    compressed_image = kmeans.cluster_centers_[labels].reshape(shape)\n",
    "    \n",
    "    return Image.fromarray(compressed_image.astype(np.uint8))"
   ]
  },
  {
   "cell_type": "code",
   "execution_count": 14,
   "metadata": {},
   "outputs": [],
   "source": [
    "def calculate_metrics(original_image, compressed_image):\n",
    "    original_array = np.array(original_image)\n",
    "    compressed_array = np.array(compressed_image)\n",
    "    \n",
    "    win_size = min(original_array.shape[0], original_array.shape[1], 5)  # Adjust the window size here\n",
    "    \n",
    "    psnr_value = psnr(original_array, compressed_array)\n",
    "    mse_value = mse(original_array, compressed_array)\n",
    "    ssim_value = ssim(original_array, compressed_array, win_size=7, multichannel=True)\n",
    "    \n",
    "    return psnr_value, mse_value, ssim_value\n"
   ]
  },
  {
   "cell_type": "code",
   "execution_count": 15,
   "metadata": {},
   "outputs": [],
   "source": [
    "def plot_metrics(psnr_values, mse_values, ssim_values, labels):\n",
    "    plt.figure(figsize=(10, 6))\n",
    "    \n",
    "    plt.subplot(1, 3, 1)\n",
    "    plt.plot(labels, psnr_values, marker='o')\n",
    "    plt.xlabel('Compression Technique')\n",
    "    plt.ylabel('PSNR')\n",
    "    plt.title('PSNR Comparison')\n",
    "\n",
    "    plt.subplot(1, 3, 2)\n",
    "    plt.plot(labels, mse_values, marker='o')\n",
    "    plt.xlabel('Compression Technique')\n",
    "    plt.ylabel('MSE')\n",
    "    plt.title('MSE Comparison')\n",
    "\n",
    "    plt.subplot(1, 3, 3)\n",
    "    plt.plot(labels, ssim_values, marker='o')\n",
    "    plt.xlabel('Compression Technique')\n",
    "    plt.ylabel('SSIM')\n",
    "    plt.title('SSIM Comparison')\n",
    "\n",
    "    plt.tight_layout()\n",
    "    plt.show()"
   ]
  },
  {
   "cell_type": "code",
   "execution_count": 16,
   "metadata": {},
   "outputs": [
    {
     "name": "stderr",
     "output_type": "stream",
     "text": [
      "c:\\Users\\ASUS\\miniconda3\\lib\\site-packages\\sklearn\\cluster\\_kmeans.py:1412: FutureWarning: The default value of `n_init` will change from 10 to 'auto' in 1.4. Set the value of `n_init` explicitly to suppress the warning\n",
      "  super()._check_params_vs_input(X, default_n_init=10)\n"
     ]
    }
   ],
   "source": [
    "# Load the original image\n",
    "original_image = Image.open('./image4.jpg')\n",
    "\n",
    "# Set the number of components for PCA and number of colors for K-means\n",
    "n_pca_components = 3\n",
    "n_kmeans_colors = 64\n",
    "\n",
    "# Compress the image using PCA\n",
    "compressed_pca = compress_pca(original_image, n_pca_components)\n",
    "\n",
    "# Compress the image using K-means\n",
    "compressed_kmeans = compress_kmeans(original_image, n_kmeans_colors)\n",
    "\n",
    "# Calculate the metrics for both compression techniques\n",
    "psnr_values = []\n",
    "mse_values = []\n",
    "ssim_values = []"
   ]
  },
  {
   "cell_type": "code",
   "execution_count": 17,
   "metadata": {},
   "outputs": [
    {
     "ename": "ValueError",
     "evalue": "win_size exceeds image extent. Either ensure that your images are at least 7x7; or pass win_size explicitly in the function call, with an odd value less than or equal to the smaller side of your images. If your images are multichannel (with color channels), set channel_axis to the axis number corresponding to the channels.",
     "output_type": "error",
     "traceback": [
      "\u001b[1;31m---------------------------------------------------------------------------\u001b[0m",
      "\u001b[1;31mValueError\u001b[0m                                Traceback (most recent call last)",
      "Cell \u001b[1;32mIn[17], line 3\u001b[0m\n\u001b[0;32m      1\u001b[0m \u001b[39m# Calculate metrics for PCA compression\u001b[39;00m\n\u001b[0;32m      2\u001b[0m \u001b[39m# psnr_pca, mse_pca, ssim_pca = calculate_metrics(original_image, compressed_pca)\u001b[39;00m\n\u001b[1;32m----> 3\u001b[0m psnr_pca, mse_pca, ssim_pca \u001b[39m=\u001b[39m calculate_metrics(original_image, Image\u001b[39m.\u001b[39;49mopen(\u001b[39m'\u001b[39;49m\u001b[39m./PCA/pca_ghyb.jpeg\u001b[39;49m\u001b[39m'\u001b[39;49m))\n\u001b[0;32m      4\u001b[0m psnr_values\u001b[39m.\u001b[39mappend(psnr_pca)\n\u001b[0;32m      5\u001b[0m mse_values\u001b[39m.\u001b[39mappend(mse_pca)\n",
      "Cell \u001b[1;32mIn[14], line 9\u001b[0m, in \u001b[0;36mcalculate_metrics\u001b[1;34m(original_image, compressed_image)\u001b[0m\n\u001b[0;32m      7\u001b[0m psnr_value \u001b[39m=\u001b[39m psnr(original_array, compressed_array)\n\u001b[0;32m      8\u001b[0m mse_value \u001b[39m=\u001b[39m mse(original_array, compressed_array)\n\u001b[1;32m----> 9\u001b[0m ssim_value \u001b[39m=\u001b[39m ssim(original_array, compressed_array, win_size\u001b[39m=\u001b[39;49m\u001b[39m7\u001b[39;49m, multichannel\u001b[39m=\u001b[39;49m\u001b[39mTrue\u001b[39;49;00m)\n\u001b[0;32m     11\u001b[0m \u001b[39mreturn\u001b[39;00m psnr_value, mse_value, ssim_value\n",
      "File \u001b[1;32mc:\\Users\\ASUS\\miniconda3\\lib\\site-packages\\skimage\\metrics\\_structural_similarity.py:178\u001b[0m, in \u001b[0;36mstructural_similarity\u001b[1;34m(im1, im2, win_size, gradient, data_range, channel_axis, gaussian_weights, full, **kwargs)\u001b[0m\n\u001b[0;32m    175\u001b[0m         win_size \u001b[39m=\u001b[39m \u001b[39m7\u001b[39m   \u001b[39m# backwards compatibility\u001b[39;00m\n\u001b[0;32m    177\u001b[0m \u001b[39mif\u001b[39;00m np\u001b[39m.\u001b[39many((np\u001b[39m.\u001b[39masarray(im1\u001b[39m.\u001b[39mshape) \u001b[39m-\u001b[39m win_size) \u001b[39m<\u001b[39m \u001b[39m0\u001b[39m):\n\u001b[1;32m--> 178\u001b[0m     \u001b[39mraise\u001b[39;00m \u001b[39mValueError\u001b[39;00m(\n\u001b[0;32m    179\u001b[0m         \u001b[39m'\u001b[39m\u001b[39mwin_size exceeds image extent. \u001b[39m\u001b[39m'\u001b[39m\n\u001b[0;32m    180\u001b[0m         \u001b[39m'\u001b[39m\u001b[39mEither ensure that your images are \u001b[39m\u001b[39m'\u001b[39m\n\u001b[0;32m    181\u001b[0m         \u001b[39m'\u001b[39m\u001b[39mat least 7x7; or pass win_size explicitly \u001b[39m\u001b[39m'\u001b[39m\n\u001b[0;32m    182\u001b[0m         \u001b[39m'\u001b[39m\u001b[39min the function call, with an odd value \u001b[39m\u001b[39m'\u001b[39m\n\u001b[0;32m    183\u001b[0m         \u001b[39m'\u001b[39m\u001b[39mless than or equal to the smaller side of your \u001b[39m\u001b[39m'\u001b[39m\n\u001b[0;32m    184\u001b[0m         \u001b[39m'\u001b[39m\u001b[39mimages. If your images are multichannel \u001b[39m\u001b[39m'\u001b[39m\n\u001b[0;32m    185\u001b[0m         \u001b[39m'\u001b[39m\u001b[39m(with color channels), set channel_axis to \u001b[39m\u001b[39m'\u001b[39m\n\u001b[0;32m    186\u001b[0m         \u001b[39m'\u001b[39m\u001b[39mthe axis number corresponding to the channels.\u001b[39m\u001b[39m'\u001b[39m)\n\u001b[0;32m    188\u001b[0m \u001b[39mif\u001b[39;00m \u001b[39mnot\u001b[39;00m (win_size \u001b[39m%\u001b[39m \u001b[39m2\u001b[39m \u001b[39m==\u001b[39m \u001b[39m1\u001b[39m):\n\u001b[0;32m    189\u001b[0m     \u001b[39mraise\u001b[39;00m \u001b[39mValueError\u001b[39;00m(\u001b[39m'\u001b[39m\u001b[39mWindow size must be odd.\u001b[39m\u001b[39m'\u001b[39m)\n",
      "\u001b[1;31mValueError\u001b[0m: win_size exceeds image extent. Either ensure that your images are at least 7x7; or pass win_size explicitly in the function call, with an odd value less than or equal to the smaller side of your images. If your images are multichannel (with color channels), set channel_axis to the axis number corresponding to the channels."
     ]
    }
   ],
   "source": [
    "# Calculate metrics for PCA compression\n",
    "# psnr_pca, mse_pca, ssim_pca = calculate_metrics(original_image, compressed_pca)\n",
    "psnr_pca, mse_pca, ssim_pca = calculate_metrics(original_image, Image.open('./PCA/pca_ghyb.jpeg'))\n",
    "psnr_values.append(psnr_pca)\n",
    "mse_values.append(mse_pca)\n",
    "ssim_values.append(ssim_pca)\n",
    "\n",
    "# Calculate metrics for K-means compression\n",
    "# psnr_kmeans, mse_kmeans, ssim_kmeans = calculate_metrics(original_image, compressed_kmeans)\n",
    "psnr_kmeans, mse_kmeans, ssim_kmeans = calculate_metrics(original_image, Image.open('./Kmeans/K_64.jpeg'))\n",
    "psnr_values.append(psnr_kmeans)\n",
    "mse_values.append(mse_kmeans)\n",
    "ssim_values.append(ssim_kmeans)"
   ]
  },
  {
   "cell_type": "code",
   "execution_count": null,
   "metadata": {},
   "outputs": [],
   "source": [
    "# Create labels for the compression techniques\n",
    "labels = ['PCA', 'K-means']\n",
    "\n",
    "# Plot the performance metrics\n",
    "plot_metrics(psnr_values, mse_values, ssim_values, labels)"
   ]
  }
 ],
 "metadata": {
  "kernelspec": {
   "display_name": ".venv",
   "language": "python",
   "name": "python3"
  },
  "language_info": {
   "codemirror_mode": {
    "name": "ipython",
    "version": 3
   },
   "file_extension": ".py",
   "mimetype": "text/x-python",
   "name": "python",
   "nbconvert_exporter": "python",
   "pygments_lexer": "ipython3",
   "version": "3.10.10"
  },
  "orig_nbformat": 4
 },
 "nbformat": 4,
 "nbformat_minor": 2
}
